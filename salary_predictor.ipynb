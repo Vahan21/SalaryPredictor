{
 "cells": [
  {
   "cell_type": "markdown",
   "metadata": {
    "colab_type": "text",
    "id": "lvbv6lDrBwth"
   },
   "source": [
    "# **Goal**\n",
    "\n",
    "Given a dataset containing information about person clean the data and find the best predictor."
   ]
  },
  {
   "cell_type": "markdown",
   "metadata": {
    "colab_type": "text",
    "id": "8vEhFYnFD18_"
   },
   "source": [
    "\n",
    "# Cleaning the data\n",
    "\n",
    "\n",
    "---\n",
    "\n",
    "\n",
    "## Handling Imbalance\n",
    "\n",
    "As shown below the dataset is not balanced. So I used oversampling and undersampling to artificially make it balanced. But after running a classifier on validation set it performed worse with those techniques. So I just used avg f1 score as model's evaluation tool."
   ]
  },
  {
   "cell_type": "code",
   "execution_count": 8,
   "metadata": {
    "colab": {
     "base_uri": "https://localhost:8080/",
     "height": 327
    },
    "colab_type": "code",
    "executionInfo": {
     "elapsed": 1078,
     "status": "ok",
     "timestamp": 1563789214014,
     "user": {
      "displayName": "Vahan Hovhannisyan",
      "photoUrl": "https://lh4.googleusercontent.com/-jUs67KcpRS8/AAAAAAAAAAI/AAAAAAAAAM4/VW3JU2Q1YEM/s64/photo.jpg",
      "userId": "06184355318819927360"
     },
     "user_tz": -240
    },
    "id": "Zss_Da1LEpKG",
    "outputId": "b842fcbe-8788-46b2-a92b-fedcc56ff1a2"
   },
   "outputs": [
    {
     "name": "stdout",
     "output_type": "stream",
     "text": [
      "Proportion: 3.15 : 1\n"
     ]
    },
    {
     "data": {
      "image/png": "[encoded data removed]",
      "text/plain": [
       "<Figure size 432x288 with 1 Axes>"
      ]
     },
     "metadata": {
      "tags": []
     },
     "output_type": "display_data"
    }
   ],
   "source": [
    "import pandas as pd\n",
    "import matplotlib.pyplot as plt\n",
    "import warnings\n",
    "\n",
    "warnings.simplefilter(action='ignore', category=FutureWarning)\n",
    "\n",
    "\n",
    "def plot_classes(df):\n",
    "\ttarget_count = df['salary'].value_counts()\n",
    "\tprint('Proportion:', round(target_count[0] / target_count[1], 2), ': 1')\n",
    "\n",
    "\ttarget_count.plot(kind='bar', title='Count (target)')\n",
    "\tplt.show()\n",
    "\n",
    "\n",
    "df = pd.read_csv('/census.csv')\n",
    "plot_classes(df)"
   ]
  },
  {
   "cell_type": "markdown",
   "metadata": {
    "colab_type": "text",
    "id": "KnQMEZJDHumI"
   },
   "source": [
    "## Shuffling\n",
    "\n",
    "Since the dataset is not ordered in any way I don't use shuffling to avoid additional computation time.\n",
    "\n",
    "## Scaling\n",
    "\n",
    "I used different scaling techniques like Standart scaler,MaxAbs scaler, MinMax scaler but none contributed to final score."
   ]
  },
  {
   "cell_type": "markdown",
   "metadata": {
    "colab_type": "text",
    "id": "7haSR0i2H_nk"
   },
   "source": [
    "## Handling categorical features\n",
    "\n",
    "In order to deal with categorical features I first used one hot encoding and it produced a sparse \n",
    " matrix with 119 columns of zeros and ones. The classifier was not able to generalize and showed signs of overfitting (e.g 0.95 recall on training set and 0.58 recall on validation set). I used PCA to reduce the number of columns to 80/60/40 but it had negative effect on validation score.\n",
    " \n",
    " ### Combining features\n",
    " \n",
    " So instead I combined features together and dropped irrelevant ones as shown below."
   ]
  },
  {
   "cell_type": "code",
   "execution_count": 33,
   "metadata": {
    "colab": {
     "base_uri": "https://localhost:8080/",
     "height": 357
    },
    "colab_type": "code",
    "executionInfo": {
     "elapsed": 1000,
     "status": "ok",
     "timestamp": 1563791108618,
     "user": {
      "displayName": "Vahan Hovhannisyan",
      "photoUrl": "https://lh4.googleusercontent.com/-jUs67KcpRS8/AAAAAAAAAAI/AAAAAAAAAM4/VW3JU2Q1YEM/s64/photo.jpg",
      "userId": "06184355318819927360"
     },
     "user_tz": -240
    },
    "id": "0Q32nyfCKGzA",
    "outputId": "7937d035-1ab3-430b-9100-26bb9a97c2fb"
   },
   "outputs": [
    {
     "name": "stdout",
     "output_type": "stream",
     "text": [
      "   age  education  marital-status  occupation  years_of_experience  \\\n",
      "0   39          2               0           0                    4   \n",
      "1   50          2               1           1                   14   \n",
      "2   38          0               0           0                    4   \n",
      "3   53          0               1           0                   14   \n",
      "4   28          2               1           1                   11   \n",
      "\n",
      "   relationship  race  sex  capital-gain  capital-loss  hours-per-week  \\\n",
      "0             0     0    0          2174             0              40   \n",
      "1             1     0    0             0             0              13   \n",
      "2             0     0    0             0             0              40   \n",
      "3             1     3    0             0             0              40   \n",
      "4             1     3    1             0             0              40   \n",
      "\n",
      "   native-country  salary  \n",
      "0               1       0  \n",
      "1               1       0  \n",
      "2               1       0  \n",
      "3               1       0  \n",
      "4               1       0  \n"
     ]
    }
   ],
   "source": [
    "import warnings\n",
    "\n",
    "warnings.simplefilter(action='ignore', category=FutureWarning)\n",
    "\n",
    "\n",
    "def preprocess_data(df):\n",
    "    # drop nulls\n",
    "\tfor col in df.columns:\n",
    "\t\tdf.drop(df.loc[df[col] == ' ?'].index, inplace=True)\n",
    "\n",
    "\t# salary\n",
    "\tdf['salary'].replace({' <=50K': 0, ' >50K': 1}, inplace=True)\n",
    "\n",
    "\t# sex\n",
    "\tdf['sex'].replace({' Male': 0, ' Female': 1}, inplace=True)\n",
    "\n",
    "\t# country\n",
    "\tmean_by_country = df[['native-country', 'salary']].groupby(['native-country']).mean().mean()['salary']\n",
    "\tgrouped_countries = df[['native-country', 'salary']].groupby(['native-country'], as_index=False).mean()\n",
    "    \n",
    "    # divide contries into 2 categories depending on whether they provide a higher salary than mean salary which is ~0.2\n",
    "\trich_countries = grouped_countries.loc[grouped_countries['salary'] > mean_by_country, 'native-country'].unique()\n",
    "\tpoor_countries = list(set(grouped_countries['native-country']) - set(rich_countries))\n",
    "\n",
    "\tdf['native-country'].replace(poor_countries, 0, inplace=True)\n",
    "\tdf['native-country'].replace(rich_countries, 1, inplace=True)\n",
    "    \n",
    "    # marital status\n",
    "    # divide people as being married or not since they have different mean income levels\n",
    "\tnot_married = [' Divorced', ' Married-spouse-absent', ' Never-married', ' Separated', ' Widowed']\n",
    "\tmarried = [' Married-AF-spouse', ' Married-civ-spouse']\n",
    "\n",
    "\tdf['marital-status'].replace(not_married, 0, inplace=True)\n",
    "\tdf['marital-status'].replace(married, 1, inplace=True)\n",
    "\n",
    "\t# race\n",
    "    # each race has different level of mean income\n",
    "\traces = {' White': 0, ' Amer-Indian-Eskimo': 1, ' Asian-Pac-Islander': 2, ' Black': 3, ' Other': 4}\n",
    "\tdf['race'].replace(races, inplace=True)\n",
    "\n",
    "\t# occupation\n",
    "    # divide the same way as countries\n",
    "\tmean_by_occupation = df[['occupation', 'salary']].groupby(['occupation']).mean().mean()['salary']\n",
    "\tgrouped_occupations = df[['occupation', 'salary']].groupby(['occupation'], as_index=False).mean()\n",
    "\n",
    "\trich_occupations = grouped_occupations.loc[\n",
    "\t\tgrouped_occupations['salary'] > mean_by_occupation, 'occupation'].unique()\n",
    "\tpoor_occupations = list(set(grouped_occupations['occupation']) - set(rich_occupations))\n",
    "\n",
    "\tdf['occupation'].replace(poor_occupations, 0, inplace=True)\n",
    "\tdf['occupation'].replace(rich_occupations, 1, inplace=True)\n",
    "\n",
    "\t# education\n",
    "    # divide the same way as marital status\n",
    "\tno_college = [' Preschool', ' 1st-4th', ' 5th-6th', ' 9th', ' 11th', ' 7th-8th', ' 10th', ' 12th', ' HS-grad']\n",
    "\tcollege = [' Some-college', ' Assoc-acdm', ' Assoc-voc']\n",
    "\tuniversity = [' Bachelors', ' Masters', ' Doctorate', ' Prof-school']\n",
    "\n",
    "\tdf['education'].replace(no_college, 0, inplace=True)\n",
    "\tdf['education'].replace(college, 1, inplace=True)\n",
    "\tdf['education'].replace(university, 2, inplace=True)\n",
    "\n",
    "\t# relationship\n",
    "    # divide people as being wife or husband since the latter have higher mean income level\n",
    "\tnot_wife_husband = [' Own-child', ' Other-relative', ' Unmarried', ' Not-in-family']\n",
    "\twife_husband = [' Husband', ' Wife']\n",
    "\n",
    "\tdf['relationship'].replace(not_wife_husband, 0, inplace=True)\n",
    "\tdf['relationship'].replace(wife_husband, 1, inplace=True)\n",
    "\n",
    "\t# drops\n",
    "    # drop columns that are duplicate or don't have impact on final classification \n",
    "\tdf.drop(columns=['education-num', 'fnlwgt', 'city', 'workclass'], inplace=True)\n",
    "\t\n",
    "\tprint_df(df.head())\n",
    "\n",
    "    \n",
    "def print_df(df):\n",
    "\twith pd.option_context('display.max_rows', None, 'display.max_columns', None):\n",
    "\t\tprint(df)\n",
    "    \n",
    "df = pd.read_csv('/census.csv')\n",
    "preprocess_data(df)"
   ]
  },
  {
   "cell_type": "markdown",
   "metadata": {
    "colab_type": "text",
    "id": "tDtcy_DKPm61"
   },
   "source": [
    "# Finding a classifier\n",
    "\n",
    "To find the best classifier I used [sklearn's cheat sheet](https://scikit-learn.org/stable/tutorial/machine_learning_map/index.html). I chose Random forest classifier as it performed the best with avg f1 score. I used Voting classifier from sklearn but id did not improve accuracy. Also I provided grid search to find the best hyperparameters of Random forest but it was taking too long on my laptop without GPU so I interrupted it.\n",
    "\n",
    "\n",
    "# Full Code"
   ]
  },
  {
   "cell_type": "code",
   "execution_count": 37,
   "metadata": {
    "colab": {
     "base_uri": "https://localhost:8080/",
     "height": 207
    },
    "colab_type": "code",
    "executionInfo": {
     "elapsed": 2257,
     "status": "ok",
     "timestamp": 1563792442998,
     "user": {
      "displayName": "Vahan Hovhannisyan",
      "photoUrl": "https://lh4.googleusercontent.com/-jUs67KcpRS8/AAAAAAAAAAI/AAAAAAAAAM4/VW3JU2Q1YEM/s64/photo.jpg",
      "userId": "06184355318819927360"
     },
     "user_tz": -240
    },
    "id": "VoAwwP4nSBgl",
    "outputId": "7f206a6a-044c-4e02-ac61-f7849a82b7c2"
   },
   "outputs": [
    {
     "name": "stdout",
     "output_type": "stream",
     "text": [
      "Test Results\n",
      "              precision    recall  f1-score   support\n",
      "\n",
      "           0       0.87      0.93      0.90      2248\n",
      "           1       0.75      0.61      0.67       769\n",
      "\n",
      "    accuracy                           0.85      3017\n",
      "   macro avg       0.81      0.77      0.79      3017\n",
      "weighted avg       0.84      0.85      0.84      3017\n",
      "\n"
     ]
    }
   ],
   "source": [
    "import pandas as pd\n",
    "from sklearn.ensemble import RandomForestClassifier\n",
    "from sklearn.model_selection import train_test_split\n",
    "from sklearn.metrics import classification_report\n",
    "import warnings\n",
    "\n",
    "warnings.simplefilter(action='ignore', category=FutureWarning)\n",
    "\n",
    "\n",
    "def preprocess_data(df):\n",
    "\t# drop nulls\n",
    "\tfor col in df.columns:\n",
    "\t\tdf.drop(df.loc[df[col] == ' ?'].index, inplace=True)\n",
    "\n",
    "\t# salary\n",
    "\tdf['salary'].replace({' <=50K': 0, ' >50K': 1}, inplace=True)\n",
    "\n",
    "\t# sex\n",
    "\tdf['sex'].replace({' Male': 0, ' Female': 1}, inplace=True)\n",
    "\n",
    "\t# country\n",
    "\tmean_by_country = df[['native-country', 'salary']].groupby(['native-country']).mean().mean()['salary']\n",
    "\tgrouped_countries = df[['native-country', 'salary']].groupby(['native-country'], as_index=False).mean()\n",
    "\n",
    "\trich_countries = grouped_countries.loc[grouped_countries['salary'] > mean_by_country, 'native-country'].unique()\n",
    "\tpoor_countries = list(set(grouped_countries['native-country']) - set(rich_countries))\n",
    "\n",
    "\tdf['native-country'].replace(poor_countries, 0, inplace=True)\n",
    "\tdf['native-country'].replace(rich_countries, 1, inplace=True)\n",
    "\n",
    "\t# marital status\n",
    "\tnot_married = [' Divorced', ' Married-spouse-absent', ' Never-married', ' Separated', ' Widowed']\n",
    "\tmarried = [' Married-AF-spouse', ' Married-civ-spouse']\n",
    "\n",
    "\tdf['marital-status'].replace(not_married, 0, inplace=True)\n",
    "\tdf['marital-status'].replace(married, 1, inplace=True)\n",
    "\n",
    "\t# race\n",
    "\traces = {' White': 0, ' Amer-Indian-Eskimo': 1, ' Asian-Pac-Islander': 2, ' Black': 3, ' Other': 4}\n",
    "\tdf['race'].replace(races, inplace=True)\n",
    "\n",
    "\t# occupation\n",
    "\tmean_by_occupation = df[['occupation', 'salary']].groupby(['occupation']).mean().mean()['salary']\n",
    "\tgrouped_occupations = df[['occupation', 'salary']].groupby(['occupation'], as_index=False).mean()\n",
    "\n",
    "\trich_occupations = grouped_occupations.loc[\n",
    "\t\tgrouped_occupations['salary'] > mean_by_occupation, 'occupation'].unique()\n",
    "\tpoor_occupations = list(set(grouped_occupations['occupation']) - set(rich_occupations))\n",
    "\n",
    "\tdf['occupation'].replace(poor_occupations, 0, inplace=True)\n",
    "\tdf['occupation'].replace(rich_occupations, 1, inplace=True)\n",
    "\n",
    "\t# education\n",
    "\tno_college = [' Preschool', ' 1st-4th', ' 5th-6th', ' 9th', ' 11th', ' 7th-8th', ' 10th', ' 12th', ' HS-grad']\n",
    "\tcollege = [' Some-college', ' Assoc-acdm', ' Assoc-voc']\n",
    "\tuniversity = [' Bachelors', ' Masters', ' Doctorate', ' Prof-school']\n",
    "\n",
    "\tdf['education'].replace(no_college, 0, inplace=True)\n",
    "\tdf['education'].replace(college, 1, inplace=True)\n",
    "\tdf['education'].replace(university, 2, inplace=True)\n",
    "\n",
    "\t# relationship\n",
    "\tnot_wife_husband = [' Own-child', ' Other-relative', ' Unmarried', ' Not-in-family']\n",
    "\twife_husband = [' Husband', ' Wife']\n",
    "\n",
    "\tdf['relationship'].replace(not_wife_husband, 0, inplace=True)\n",
    "\tdf['relationship'].replace(wife_husband, 1, inplace=True)\n",
    "\n",
    "\t# drops\n",
    "\tdf.drop(columns=['education-num', 'fnlwgt', 'city', 'workclass'], inplace=True)\n",
    "\n",
    "\t# split\n",
    "\tfeatures = df.columns[:-1]\n",
    "\txs = df[features].values\n",
    "\tys = df['salary'].values\n",
    "\n",
    "\tx_train, x_test, y_train, y_test = train_test_split(xs, ys, test_size=0.1, shuffle=False)\n",
    "\n",
    "\tx_train, x_val, y_train, y_val = train_test_split(x_train, y_train, test_size=0.1, shuffle=False)\n",
    "\n",
    "\treturn x_train, x_test, y_train, y_test, x_val, y_val\n",
    "\n",
    "\n",
    "def fit(x_train, y_train):\n",
    "\tclf = RandomForestClassifier(n_estimators=50, min_samples_leaf=25)\n",
    "\tclf.fit(x_train, y_train)\n",
    "\treturn clf\n",
    "\n",
    "\n",
    "def validate(clf, x_train, y_train, x_val, y_val):\n",
    "\tprint('Train Results')\n",
    "\tprediction_train = clf.predict(x_train)\n",
    "\tprint(classification_report(y_train, prediction_train))\n",
    "\n",
    "\tprint()\n",
    "\n",
    "\tprint('Validation Results')\n",
    "\tprediction_val = clf.predict(x_val)\n",
    "\tprint(classification_report(y_val, prediction_val))\n",
    "\n",
    "\n",
    "def test(clf, x_test, y_test):\n",
    "\tprint('Test Results')\n",
    "\tprediction = clf.predict(x_test)\n",
    "\tprint(classification_report(y_test, prediction))\n",
    "\n",
    "\n",
    "def main():\n",
    "\tworkers_df = pd.read_csv('/census.csv')\n",
    "\tx_train, x_test, y_train, y_test, x_val, y_val = preprocess_data(workers_df)\n",
    "\n",
    "\tclf = fit(x_train, y_train)\n",
    "\n",
    "\ttest(clf, x_test, y_test)\n",
    "\n",
    "\n",
    "main()\n"
   ]
  }
 ],
 "metadata": {
  "colab": {
   "name": "salary_predictor.ipynb",
   "provenance": [],
   "version": "0.3.2"
  },
  "kernelspec": {
   "display_name": "Python 3",
   "language": "python",
   "name": "python3"
  },
  "language_info": {
   "codemirror_mode": {
    "name": "ipython",
    "version": 3
   },
   "file_extension": ".py",
   "mimetype": "text/x-python",
   "name": "python",
   "nbconvert_exporter": "python",
   "pygments_lexer": "ipython3",
   "version": "3.7.3"
  }
 },
 "nbformat": 4,
 "nbformat_minor": 1
}
